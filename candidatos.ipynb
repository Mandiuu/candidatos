{
 "cells": [
  {
   "cell_type": "code",
   "execution_count": 1,
   "id": "a59e2fdc",
   "metadata": {},
   "outputs": [],
   "source": [
    "import pandas as pd"
   ]
  },
  {
   "cell_type": "code",
   "execution_count": 7,
   "id": "a32c6427",
   "metadata": {},
   "outputs": [
    {
     "name": "stdout",
     "output_type": "stream",
     "text": [
      "✅ Guardado: /Users/carlamandiola/Desktop/candidatos/candidatos/Senadores.csv\n",
      "✅ Guardado: /Users/carlamandiola/Desktop/candidatos/candidatos/Diputados.csv\n"
     ]
    }
   ],
   "source": [
    "import pandas as pd\n",
    "import os\n",
    "\n",
    "# Ruta del archivo Excel\n",
    "archivo_excel = \"/Users/carlamandiola/Desktop/candidatos/candidatos/Candidatos.xlsx\"\n",
    "\n",
    "# Carpeta de salida (misma que el Excel)\n",
    "carpeta_salida = os.path.dirname(archivo_excel)\n",
    "\n",
    "# Cargar todas las hojas\n",
    "xls = pd.ExcelFile(archivo_excel)\n",
    "\n",
    "# Iterar sobre cada hoja\n",
    "for hoja in xls.sheet_names:\n",
    "    # Leer la hoja\n",
    "    df = pd.read_excel(archivo_excel, sheet_name=hoja)\n",
    "    \n",
    "    # Crear nombre del archivo CSV (misma carpeta, nombre de hoja)\n",
    "    archivo_csv = os.path.join(carpeta_salida, f\"{hoja}.csv\")\n",
    "    \n",
    "    # Guardar en CSV\n",
    "    df.to_csv(archivo_csv, index=False)\n",
    "    print(f\"✅ Guardado: {archivo_csv}\")\n"
   ]
  },
  {
   "cell_type": "code",
   "execution_count": null,
   "id": "9ef5748a",
   "metadata": {},
   "outputs": [],
   "source": []
  },
  {
   "cell_type": "code",
   "execution_count": null,
   "id": "2e8a1608",
   "metadata": {},
   "outputs": [],
   "source": []
  },
  {
   "cell_type": "code",
   "execution_count": null,
   "id": "d8b255bd",
   "metadata": {},
   "outputs": [],
   "source": []
  }
 ],
 "metadata": {
  "kernelspec": {
   "display_name": "3.11.6",
   "language": "python",
   "name": "python3"
  },
  "language_info": {
   "codemirror_mode": {
    "name": "ipython",
    "version": 3
   },
   "file_extension": ".py",
   "mimetype": "text/x-python",
   "name": "python",
   "nbconvert_exporter": "python",
   "pygments_lexer": "ipython3",
   "version": "3.11.6"
  }
 },
 "nbformat": 4,
 "nbformat_minor": 5
}
